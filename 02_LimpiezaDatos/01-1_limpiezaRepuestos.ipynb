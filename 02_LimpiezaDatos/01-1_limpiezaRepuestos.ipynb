{
 "cells": [
  {
   "cell_type": "code",
   "execution_count": 17,
   "metadata": {},
   "outputs": [],
   "source": [
    "import sys\n",
    "import os\n",
    "main_dir = os.path.abspath('..')\n",
    "export_path = os.path.join(main_dir,'00_Utilities')\n",
    "# adding Folder_2 to the system path\n",
    "sys.path.insert(0, export_path)\n",
    "from dirFunc import *\n"
   ]
  }
 ],
 "metadata": {
  "kernelspec": {
   "display_name": "Python 3.7.13 ('base')",
   "language": "python",
   "name": "python3"
  },
  "language_info": {
   "codemirror_mode": {
    "name": "ipython",
    "version": 3
   },
   "file_extension": ".py",
   "mimetype": "text/x-python",
   "name": "python",
   "nbconvert_exporter": "python",
   "pygments_lexer": "ipython3",
   "version": "3.7.13"
  },
  "orig_nbformat": 4,
  "vscode": {
   "interpreter": {
    "hash": "02395a5ee2267bd9e0b1537cd95f059da83adf8a74d36c437bcac0b2eb96eda0"
   }
  }
 },
 "nbformat": 4,
 "nbformat_minor": 2
}
