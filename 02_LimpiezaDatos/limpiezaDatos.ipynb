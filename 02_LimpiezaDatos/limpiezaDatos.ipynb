{
 "cells": [
  {
   "cell_type": "markdown",
   "metadata": {},
   "source": [
    "# Importar Librerias"
   ]
  },
  {
   "cell_type": "code",
   "execution_count": 14,
   "metadata": {},
   "outputs": [],
   "source": [
    "import warnings\n",
    "warnings.filterwarnings('ignore')\n",
    "import numpy as np\n",
    "import pandas as pd\n",
    "import matplotlib.pyplot as plt\n",
    "import seaborn as sns\n",
    "import seaborn as sns\n",
    "%matplotlib inline\n",
    "\n",
    "import sys\n",
    "import os\n",
    "main_dir = os.path.abspath('..')\n",
    "export_path = os.path.join(main_dir,'00_Utilities')\n",
    "# adding Folder_2 to the system path\n",
    "sys.path.insert(0, export_path)\n",
    "from dirFunc import *"
   ]
  },
  {
   "cell_type": "markdown",
   "metadata": {},
   "source": [
    "# Importar Datos"
   ]
  },
  {
   "cell_type": "code",
   "execution_count": 15,
   "metadata": {},
   "outputs": [],
   "source": [
    "ruta_origen = 'Datos'\n",
    "\n",
    "# De SAP\n",
    "hOs = pd.read_csv(ruta_origen + '\\os.csv')\n",
    "hOperaciones = pd.read_csv(ruta_origen + '\\operaciones.csv')\n",
    "hHh = pd.read_csv(ruta_origen + '\\hh.csv')\n",
    "hRepuestos = pd.read_csv(ruta_origen + '\\\\repuestos.csv')\n",
    "hWip = pd.read_csv(ruta_origen + '\\wip.csv')\n",
    "\n",
    "# De Qplus\n",
    "hQplus = pd.read_csv(ruta_origen + '\\qplus.csv')\n",
    "\n",
    "# De TTA\n",
    "hTta = pd.read_csv(ruta_origen + '\\\\tta.csv')\n",
    "\n",
    "# De Trabajadores\n",
    "hTrabajadores = pd.read_csv(ruta_origen + '\\\\trabajadores.csv')\n",
    "\n",
    "# De Faena\n",
    "# hFaena = pd.read_csv(ruta_origen + '\\\\faena.csv')\n",
    "\n",
    "# Historial cursos\n",
    "hCursos = pd.read_csv(ruta_origen + '\\\\cursos.csv')\n",
    "hHistorial = pd.read_csv(ruta_origen + '\\\\historial.csv')\n",
    "hCursosAll = pd.read_csv(ruta_origen + '\\\\cursosAll.csv')"
   ]
  },
  {
   "cell_type": "markdown",
   "metadata": {},
   "source": [
    "# Limpieza de Datos"
   ]
  },
  {
   "cell_type": "markdown",
   "metadata": {},
   "source": [
    "## QPlus"
   ]
  },
  {
   "cell_type": "markdown",
   "metadata": {},
   "source": [
    "### QPlus global"
   ]
  },
  {
   "cell_type": "code",
   "execution_count": 16,
   "metadata": {},
   "outputs": [],
   "source": [
    "# Limpiar Tabla\n",
    "# Limpiar Columnas\n",
    "aQplus = hQplus.copy().drop(columns=['ID','ID Oportunidad','Orden Compra','Nº de Componente','Canti dad','Nombre Componente','Serie','Garan tía','Código de Garantía', 'Fecha de Despacho','OS Liquidación','nroCliente Final', 'Cliente Final','Subestado','Fec Recep Doc','Column1','Fec Activación','Fec Informe Presup TTA','Fec Informe Repuesto','Fec Informe IR o AFA','Fecha Envío','Programar desde','F.Comprom Cot.','Nro Aviso','OS Anterior','Resol Final Garantía', 'Fecha Resolución']) \n",
    "# Limpiar Filas\n",
    "aQplus = aQplus.dropna(subset=['S/N Componente']).reset_index(drop=True)\n",
    "\n",
    "aQplus.columns = ['OS','cliente','tipoComponente','modelo','estado','fechaLlegada','fechaPrometida','fechaTermino','NParte','serieComp','serieEquipo','tipoOrden','tipoReparacion','horasComp']"
   ]
  },
  {
   "cell_type": "code",
   "execution_count": 17,
   "metadata": {},
   "outputs": [],
   "source": [
    "# Aplicar Filtros\n",
    "tipoComponente = ['CO','DI','MA','MF','MO','TR']\n",
    "estado = ['DESPACHO','TERMINADO']\n",
    "tipoReparacion = ['Solo Prueba','Cambio posicion','Solo AFA']\n",
    "\n",
    "aQplus['estado'] = aQplus['estado'].replace({'53 - DESPACHADO A CLIENTE': 'DESPACHO',\n",
    "                                             '23 - TERMINADO': 'TERMINADO'})\n",
    "aQplus = aQplus.loc[aQplus['tipoComponente'].isin(tipoComponente)]\n",
    "aQplus = aQplus.loc[aQplus['estado'].isin(estado)]\n",
    "aQplus = aQplus.loc[~aQplus['tipoReparacion'].isin(tipoReparacion)]\n",
    "\n",
    "# Solucionar valor de Horas Componente\n",
    "horasComp = aQplus['horasComp'].apply(lambda x: x.replace('.','').replace(',','.'))\n",
    "aQplus['horasComp'] = pd.to_numeric(horasComp)"
   ]
  },
  {
   "cell_type": "markdown",
   "metadata": {},
   "source": [
    "### QPlus con filtros"
   ]
  },
  {
   "cell_type": "code",
   "execution_count": 18,
   "metadata": {},
   "outputs": [],
   "source": [
    "fQplus = aQplus.copy()\n",
    "\n",
    "# Filtro de alcance del proyecto\n",
    "years = [2020,2021]\n",
    "reparacion = ['Overhaul','Proceso Continuo']\n",
    "cliente = \"INTERCAMBIO\"\n",
    "sinSerie = ['SIN SERIE','SS','SIN INFORMACION','NO ENTREGADA','VER PLACA']\n",
    "sinSerieEquipo = ['S/N'] # Viendo si se aplica este filtro.\n",
    "\n",
    "fQplus = fQplus.dropna(subset=['fechaTermino','serieComp'])\n",
    "fQplus = fQplus.dropna(subset=['cliente','tipoReparacion'])\n",
    "\n",
    "fQplus['fechaTermino'] = pd.to_datetime(fQplus['fechaTermino'], errors='coerce')\n",
    "fQplus = fQplus.loc[fQplus['fechaTermino'].dt.year.isin(years)]\n",
    "fQplus = fQplus.loc[fQplus['tipoReparacion'].isin(reparacion)]\n",
    "fQplus = fQplus.loc[~fQplus['serieComp'].isin(sinSerie)]\n",
    "fQplus = fQplus[fQplus.cliente.str.contains(cliente)]\n",
    "\n",
    "# Only consider numeric OS\n",
    "fQplus = addOSMadreIndex(fQplus, dropOrden=True, ordenName = 'OS', osMadreName = 'OSMadre')\n",
    "# # Optimizando\n",
    "fQplus = fQplus.drop(columns=['cliente'])"
   ]
  },
  {
   "cell_type": "markdown",
   "metadata": {},
   "source": [
    "## Repuestos"
   ]
  },
  {
   "cell_type": "code",
   "execution_count": 19,
   "metadata": {},
   "outputs": [],
   "source": [
    "fRepuestos = hRepuestos.copy().drop(columns=['De período','Sociedad','Centro','Clase de coste','Moneda del informe','Ud. cantidad contab.','Número de personal','Documento compras','Nº docum.refer.','Usuario','Cta.contrapartida','Texto breve de material','Denom.clase de coste'])\n",
    "# Renombrar columnas a otras mas descriptivas\n",
    "fRepuestos.columns = ['fecha', 'Orden','Costo','Cantidad','Material'] # ,'NombreMaterial'\n",
    "# Eliminar filas vacias\n",
    "fRepuestos = fRepuestos.dropna(subset=['Material']).reset_index(drop=True)\n",
    "\n",
    "# Formateando la orden\n",
    "oslist = list(fQplus.index.values)\n",
    "fRepuestos = addOSMadreIndex(fRepuestos, dropOrden=False, ordenName = 'Orden', osFilter=oslist,index=False)\n",
    "fRepuestos = fRepuestos.groupby(['OSMadre','Material'])['Costo','Cantidad'].sum().reset_index()"
   ]
  },
  {
   "cell_type": "markdown",
   "metadata": {},
   "source": [
    "## Trabajadores"
   ]
  },
  {
   "cell_type": "code",
   "execution_count": 20,
   "metadata": {},
   "outputs": [],
   "source": [
    "fTrabajadores = hTrabajadores.copy()\n",
    "fTrabajadores.drop(columns=['RUT','Nombre','Posición ','Ubicación','Ubicación Workday','Centro de costo','Representante RRHH','Nacionalidad','Sexo','Fecha antigüedad','Fecha retiro','Días Trabajados','Relación contrato'],inplace=True)\n",
    "fTrabajadores.columns = ['fechaNacimiento','fechaIngreso','Nivel','NPersonal']\n",
    "fTrabajadores.fechaNacimiento = pd.to_datetime(fTrabajadores['fechaNacimiento'])\n",
    "fTrabajadores.fechaIngreso = pd.to_datetime(fTrabajadores['fechaIngreso'])\n",
    "\n",
    "# Filtrar trabajadores por operarios mecanicos o tecnicos\n",
    "niveles = {'M1':\"1\",'M2':'2','M3':'3','T1':'4','T2':'5','T3':'6','S1':'7'}\n",
    "listaNiveles = list(niveles.keys())\n",
    "fTrabajadores = fTrabajadores[fTrabajadores['Nivel'].isin(listaNiveles)]"
   ]
  },
  {
   "cell_type": "markdown",
   "metadata": {},
   "source": [
    "## Mano de Obra o HH"
   ]
  },
  {
   "cell_type": "code",
   "execution_count": 21,
   "metadata": {},
   "outputs": [],
   "source": [
    "fHh = hHh.copy()\n",
    "fHh = fHh.drop(columns=['Centro (plan)','Clase orden','Pto.trab.(real)','Cl.activ.(real)','FechaInicioReal',\n",
    "        'Hora inic.real','Fecha fin real','Hora fin real','Fecha contab.','Creado por','Creado el',\n",
    "        'Notific.final','Notificación','Status sistema','Equipo','Mot.desviac.','Texto notific.'])\n",
    "fHh.columns=['NPersonal','nombre','Orden','Operacion','TrabajoReal']\n",
    "\n",
    "oslist = list(fQplus.index.values)\n",
    "fHh = addOSMadreIndex(fHh, dropOrden=False, ordenName = 'Orden', osFilter=oslist,index=False)\n",
    "fHh = fHh.groupby(['OSMadre','Orden','Operacion','NPersonal'])['TrabajoReal'].sum().reset_index()\n",
    "fHh = fHh[fHh.TrabajoReal!=0].reset_index(drop=True)\n",
    "\n",
    "# Filtrar por los trabajadores operacionales como los mecanicos y tecnicos\n",
    "listaPersonal = list(fTrabajadores.NPersonal)\n",
    "fHh = fHh[fHh['NPersonal'].isin(listaPersonal)]"
   ]
  },
  {
   "cell_type": "markdown",
   "metadata": {},
   "source": [
    "## Operaciones"
   ]
  },
  {
   "cell_type": "code",
   "execution_count": 22,
   "metadata": {},
   "outputs": [],
   "source": [
    "fOperaciones = hOperaciones.copy()\n",
    "fOperaciones = fOperaciones.drop(columns=['ClAct','Ctrl','Status de sistema','Clv.mod.'])\n",
    "\n",
    "fOperaciones.columns = ['serieComp','Orden','Operacion','Descripcion','serieEquipo','TrabajoCotizado','TrabajoReal']\n",
    "\n",
    "oslist = list(fQplus.index.values)\n",
    "fOperaciones = addOSMadreIndex(fOperaciones,dropOrden=False,ordenName='Orden',osFilter=oslist,index=False)\n",
    "\n",
    "# Considera solo aquellas operaciones con registro en el trabajo real\n",
    "fOperaciones = fOperaciones[(fOperaciones.TrabajoReal!=0) | (fOperaciones.TrabajoCotizado!=0)].dropna().reset_index(drop=True)"
   ]
  },
  {
   "cell_type": "markdown",
   "metadata": {},
   "source": [
    "## WIP"
   ]
  },
  {
   "cell_type": "code",
   "execution_count": 23,
   "metadata": {},
   "outputs": [],
   "source": [
    "fWip = hWip.copy()\n",
    "fWip.drop(columns=['Aviso','Cl.Aviso','SIMS','Centro planificación','Area Emp','Sociedad','Clase Orden','Status de sistema','Apr Hs','NF','SolicParts','PrtsEntreg','BO','TTA','Norm.Liq.','Garant','N° Claim','Cliente','Vendedor','Tipo Equipo','Fabricante','N° Cotiz','Stat Claim','Precio KMT','Precio Misc','Precio Viaje','Costo Misc','Costo KMT','Fe Prom Ej','Fe AP OS','Dias Inac','Fe Cotiz',\t'Fe Ent Co','Fe Aprob',\t'Fe Prom Ej','Fe ConcS','Fe CieTec','Equipo','Ord. Liqui','TAM','Status Usu.Orden de Servicio','Avance %','TotHsRe','TotHsPl','Precio Repuestos','Precio Mano de Obra','Precio TTA','Precio total de venta','Serie','Modelo'], inplace=True)\n",
    "fWip.columns = ['OSMadre','Orden','costoRepuesto','costoMO','costoTTA','costoTotal','wip']\n",
    "fWip = fWip[fWip.OSMadre.isin(oslist)]"
   ]
  },
  {
   "cell_type": "markdown",
   "metadata": {},
   "source": [
    "## Cursos"
   ]
  },
  {
   "attachments": {},
   "cell_type": "markdown",
   "metadata": {},
   "source": [
    "### Parcial"
   ]
  },
  {
   "cell_type": "code",
   "execution_count": 24,
   "metadata": {},
   "outputs": [],
   "source": [
    "fHistorial = hHistorial[['ID de empleado','Estado Finalizado','Calificación','Puntaje','ID de referencia de la oferta de cursos']]\n",
    "\n",
    "fHistorial.columns = ['NPersonal','estadoFinalizado','calificacion','puntaje','IDCurso']"
   ]
  },
  {
   "attachments": {},
   "cell_type": "markdown",
   "metadata": {},
   "source": [
    "### Completo (Capstone Previo)"
   ]
  },
  {
   "cell_type": "code",
   "execution_count": 25,
   "metadata": {},
   "outputs": [
    {
     "data": {
      "text/html": [
       "<div>\n",
       "<style scoped>\n",
       "    .dataframe tbody tr th:only-of-type {\n",
       "        vertical-align: middle;\n",
       "    }\n",
       "\n",
       "    .dataframe tbody tr th {\n",
       "        vertical-align: top;\n",
       "    }\n",
       "\n",
       "    .dataframe thead th {\n",
       "        text-align: right;\n",
       "    }\n",
       "</style>\n",
       "<table border=\"1\" class=\"dataframe\">\n",
       "  <thead>\n",
       "    <tr style=\"text-align: right;\">\n",
       "      <th></th>\n",
       "      <th>IDCurso</th>\n",
       "      <th>Habilidades</th>\n",
       "      <th>Desarme</th>\n",
       "      <th>Tipo</th>\n",
       "      <th>habilidadesHistorial</th>\n",
       "      <th>Nivel</th>\n",
       "    </tr>\n",
       "  </thead>\n",
       "  <tbody>\n",
       "    <tr>\n",
       "      <th>0</th>\n",
       "      <td>HME0924</td>\n",
       "      <td>Embalaje de Componentes con Plástico Termo Ret...</td>\n",
       "      <td>0</td>\n",
       "      <td>Power Train</td>\n",
       "      <td>Embalaje de Componentes con Plástico Termo Ret...</td>\n",
       "      <td>M1</td>\n",
       "    </tr>\n",
       "    <tr>\n",
       "      <th>1</th>\n",
       "      <td>HME0646</td>\n",
       "      <td>Uso de Llaves Dinamométricas e Indicador de Gr...</td>\n",
       "      <td>0</td>\n",
       "      <td>Power Train</td>\n",
       "      <td>Uso de Llaves Dinamométricas e Indicador de Gr...</td>\n",
       "      <td>M1</td>\n",
       "    </tr>\n",
       "    <tr>\n",
       "      <th>2</th>\n",
       "      <td>HME1108</td>\n",
       "      <td>Uso de Llave de Impacto Neumática</td>\n",
       "      <td>0</td>\n",
       "      <td>Power Train</td>\n",
       "      <td>Uso de Llave de Impacto Neumática</td>\n",
       "      <td>M1</td>\n",
       "    </tr>\n",
       "    <tr>\n",
       "      <th>3</th>\n",
       "      <td>HME1201</td>\n",
       "      <td>Uso Correcto Instrumentación CRC (Pie de Metro...</td>\n",
       "      <td>0</td>\n",
       "      <td>Power Train</td>\n",
       "      <td>Uso Correcto Instrumentación CRC (Pie de Metro...</td>\n",
       "      <td>M1</td>\n",
       "    </tr>\n",
       "    <tr>\n",
       "      <th>4</th>\n",
       "      <td>HME2050</td>\n",
       "      <td>Lavadoras Recirculatorias.</td>\n",
       "      <td>0</td>\n",
       "      <td>Power Train</td>\n",
       "      <td>Lavadoras Recirculatorias.</td>\n",
       "      <td>M1</td>\n",
       "    </tr>\n",
       "    <tr>\n",
       "      <th>...</th>\n",
       "      <td>...</td>\n",
       "      <td>...</td>\n",
       "      <td>...</td>\n",
       "      <td>...</td>\n",
       "      <td>...</td>\n",
       "      <td>...</td>\n",
       "    </tr>\n",
       "    <tr>\n",
       "      <th>123</th>\n",
       "      <td>HME4000</td>\n",
       "      <td>Conocimientos Avanzados del WPMENU en DBS</td>\n",
       "      <td>0</td>\n",
       "      <td>Power Train</td>\n",
       "      <td>-</td>\n",
       "      <td>S1</td>\n",
       "    </tr>\n",
       "    <tr>\n",
       "      <th>124</th>\n",
       "      <td>HME4002</td>\n",
       "      <td>Reclamos de PIP y PSP</td>\n",
       "      <td>0</td>\n",
       "      <td>Power Train</td>\n",
       "      <td>Reclamos de PIP y PSP</td>\n",
       "      <td>S1</td>\n",
       "    </tr>\n",
       "    <tr>\n",
       "      <th>125</th>\n",
       "      <td>HME4004</td>\n",
       "      <td>Análisis de Información Descargada de Sistema ...</td>\n",
       "      <td>0</td>\n",
       "      <td>Power Train</td>\n",
       "      <td>Análisis de información descargada del Sistema...</td>\n",
       "      <td>S1</td>\n",
       "    </tr>\n",
       "    <tr>\n",
       "      <th>126</th>\n",
       "      <td>HME4011</td>\n",
       "      <td>Programación de Taller</td>\n",
       "      <td>0</td>\n",
       "      <td>Power Train</td>\n",
       "      <td>Programación de taller</td>\n",
       "      <td>S1</td>\n",
       "    </tr>\n",
       "    <tr>\n",
       "      <th>127</th>\n",
       "      <td>CAG0160</td>\n",
       "      <td>Aprobar Curso de Legislación Laboral</td>\n",
       "      <td>0</td>\n",
       "      <td>Power Train</td>\n",
       "      <td>Legislación Laboral (inactivo/a)</td>\n",
       "      <td>S1</td>\n",
       "    </tr>\n",
       "  </tbody>\n",
       "</table>\n",
       "<p>128 rows × 6 columns</p>\n",
       "</div>"
      ],
      "text/plain": [
       "      IDCurso                                        Habilidades  Desarme  \\\n",
       "0     HME0924  Embalaje de Componentes con Plástico Termo Ret...        0   \n",
       "1    HME0646   Uso de Llaves Dinamométricas e Indicador de Gr...        0   \n",
       "2     HME1108                  Uso de Llave de Impacto Neumática        0   \n",
       "3     HME1201  Uso Correcto Instrumentación CRC (Pie de Metro...        0   \n",
       "4     HME2050                         Lavadoras Recirculatorias.        0   \n",
       "..        ...                                                ...      ...   \n",
       "123   HME4000          Conocimientos Avanzados del WPMENU en DBS        0   \n",
       "124   HME4002                              Reclamos de PIP y PSP        0   \n",
       "125   HME4004  Análisis de Información Descargada de Sistema ...        0   \n",
       "126   HME4011                            Programación de Taller         0   \n",
       "127   CAG0160               Aprobar Curso de Legislación Laboral        0   \n",
       "\n",
       "            Tipo                               habilidadesHistorial Nivel  \n",
       "0    Power Train  Embalaje de Componentes con Plástico Termo Ret...    M1  \n",
       "1    Power Train  Uso de Llaves Dinamométricas e Indicador de Gr...    M1  \n",
       "2    Power Train                  Uso de Llave de Impacto Neumática    M1  \n",
       "3    Power Train  Uso Correcto Instrumentación CRC (Pie de Metro...    M1  \n",
       "4    Power Train                         Lavadoras Recirculatorias.    M1  \n",
       "..           ...                                                ...   ...  \n",
       "123  Power Train                                                  -    S1  \n",
       "124  Power Train                              Reclamos de PIP y PSP    S1  \n",
       "125  Power Train  Análisis de información descargada del Sistema...    S1  \n",
       "126  Power Train                             Programación de taller    S1  \n",
       "127  Power Train                   Legislación Laboral (inactivo/a)    S1  \n",
       "\n",
       "[128 rows x 6 columns]"
      ]
     },
     "execution_count": 25,
     "metadata": {},
     "output_type": "execute_result"
    }
   ],
   "source": [
    "fCursosAll = hCursosAll.copy()\n",
    "fCursosAll"
   ]
  },
  {
   "cell_type": "markdown",
   "metadata": {},
   "source": [
    "# Exportar Datos"
   ]
  },
  {
   "cell_type": "code",
   "execution_count": 26,
   "metadata": {},
   "outputs": [],
   "source": [
    "ruta_destino = '03_Preprocesamiento/Datos'\n",
    "\n",
    "# De SAP\n",
    "exportar_csv(fRepuestos,ruta_destino,'fRepuestos',False)\n",
    "exportar_csv(fHh,ruta_destino,'fHh',False)\n",
    "exportar_csv(fOperaciones,ruta_destino,'fOperaciones',False)\n",
    "\n",
    "# De Qplus\n",
    "exportar_csv(aQplus,ruta_destino,'aQplus',False)\n",
    "exportar_csv(fQplus,ruta_destino,'fQplus',True)\n",
    "\n",
    "# De Trabajadores\n",
    "exportar_csv(fTrabajadores,ruta_destino,'fTrabajadores',False)\n",
    "\n",
    "# De Wip\n",
    "exportar_csv(fWip,ruta_destino,'fWip',False)\n",
    "\n",
    "# De Cursos\n",
    "exportar_csv(hCursos,ruta_destino,'hCursos',False)\n",
    "exportar_csv(hCursosAll,ruta_destino,'hCursosAll',False)\n",
    "exportar_csv(fHistorial,ruta_destino,'fHistorial',False)"
   ]
  }
 ],
 "metadata": {
  "kernelspec": {
   "display_name": "Python 3.7.13 ('base')",
   "language": "python",
   "name": "python3"
  },
  "language_info": {
   "codemirror_mode": {
    "name": "ipython",
    "version": 3
   },
   "file_extension": ".py",
   "mimetype": "text/x-python",
   "name": "python",
   "nbconvert_exporter": "python",
   "pygments_lexer": "ipython3",
   "version": "3.7.13"
  },
  "orig_nbformat": 4,
  "vscode": {
   "interpreter": {
    "hash": "02395a5ee2267bd9e0b1537cd95f059da83adf8a74d36c437bcac0b2eb96eda0"
   }
  }
 },
 "nbformat": 4,
 "nbformat_minor": 2
}
