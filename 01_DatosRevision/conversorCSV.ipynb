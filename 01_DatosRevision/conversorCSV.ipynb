{
 "cells": [
  {
   "cell_type": "markdown",
   "metadata": {},
   "source": [
    "# Importar librerias"
   ]
  },
  {
   "cell_type": "code",
   "execution_count": 1,
   "metadata": {},
   "outputs": [
    {
     "name": "stderr",
     "output_type": "stream",
     "text": [
      "\n",
      "Bad key text.latex.preview in file c:\\Users\\giaan\\anaconda3\\lib\\site-packages\\matplotlib\\mpl-data\\stylelib\\_classic_test.mplstyle, line 123 ('text.latex.preview : False')\n",
      "You probably need to get an updated matplotlibrc file from\n",
      "https://github.com/matplotlib/matplotlib/blob/v3.5.2/matplotlibrc.template\n",
      "or from the matplotlib source distribution\n",
      "\n",
      "Bad key mathtext.fallback_to_cm in file c:\\Users\\giaan\\anaconda3\\lib\\site-packages\\matplotlib\\mpl-data\\stylelib\\_classic_test.mplstyle, line 155 ('mathtext.fallback_to_cm : True  # When True, use symbols from the Computer Modern')\n",
      "You probably need to get an updated matplotlibrc file from\n",
      "https://github.com/matplotlib/matplotlib/blob/v3.5.2/matplotlibrc.template\n",
      "or from the matplotlib source distribution\n",
      "\n",
      "Bad key savefig.jpeg_quality in file c:\\Users\\giaan\\anaconda3\\lib\\site-packages\\matplotlib\\mpl-data\\stylelib\\_classic_test.mplstyle, line 418 ('savefig.jpeg_quality: 95       # when a jpeg is saved, the default quality parameter.')\n",
      "You probably need to get an updated matplotlibrc file from\n",
      "https://github.com/matplotlib/matplotlib/blob/v3.5.2/matplotlibrc.template\n",
      "or from the matplotlib source distribution\n",
      "\n",
      "Bad key savefig.frameon in file c:\\Users\\giaan\\anaconda3\\lib\\site-packages\\matplotlib\\mpl-data\\stylelib\\_classic_test.mplstyle, line 421 ('savefig.frameon : True')\n",
      "You probably need to get an updated matplotlibrc file from\n",
      "https://github.com/matplotlib/matplotlib/blob/v3.5.2/matplotlibrc.template\n",
      "or from the matplotlib source distribution\n",
      "\n",
      "Bad key verbose.level in file c:\\Users\\giaan\\anaconda3\\lib\\site-packages\\matplotlib\\mpl-data\\stylelib\\_classic_test.mplstyle, line 472 ('verbose.level  : silent      # one of silent, helpful, debug, debug-annoying')\n",
      "You probably need to get an updated matplotlibrc file from\n",
      "https://github.com/matplotlib/matplotlib/blob/v3.5.2/matplotlibrc.template\n",
      "or from the matplotlib source distribution\n",
      "\n",
      "Bad key verbose.fileo in file c:\\Users\\giaan\\anaconda3\\lib\\site-packages\\matplotlib\\mpl-data\\stylelib\\_classic_test.mplstyle, line 473 ('verbose.fileo  : sys.stdout  # a log filename, sys.stdout or sys.stderr')\n",
      "You probably need to get an updated matplotlibrc file from\n",
      "https://github.com/matplotlib/matplotlib/blob/v3.5.2/matplotlibrc.template\n",
      "or from the matplotlib source distribution\n",
      "\n",
      "Bad key keymap.all_axes in file c:\\Users\\giaan\\anaconda3\\lib\\site-packages\\matplotlib\\mpl-data\\stylelib\\_classic_test.mplstyle, line 490 ('keymap.all_axes : a                 # enable all axes')\n",
      "You probably need to get an updated matplotlibrc file from\n",
      "https://github.com/matplotlib/matplotlib/blob/v3.5.2/matplotlibrc.template\n",
      "or from the matplotlib source distribution\n",
      "\n",
      "Bad key animation.avconv_path in file c:\\Users\\giaan\\anaconda3\\lib\\site-packages\\matplotlib\\mpl-data\\stylelib\\_classic_test.mplstyle, line 501 ('animation.avconv_path: avconv     # Path to avconv binary. Without full path')\n",
      "You probably need to get an updated matplotlibrc file from\n",
      "https://github.com/matplotlib/matplotlib/blob/v3.5.2/matplotlibrc.template\n",
      "or from the matplotlib source distribution\n",
      "\n",
      "Bad key animation.avconv_args in file c:\\Users\\giaan\\anaconda3\\lib\\site-packages\\matplotlib\\mpl-data\\stylelib\\_classic_test.mplstyle, line 503 ('animation.avconv_args:            # Additional arguments to pass to avconv')\n",
      "You probably need to get an updated matplotlibrc file from\n",
      "https://github.com/matplotlib/matplotlib/blob/v3.5.2/matplotlibrc.template\n",
      "or from the matplotlib source distribution\n"
     ]
    }
   ],
   "source": [
    "import numpy as np\n",
    "import pandas as pd\n",
    "import matplotlib.pyplot as plt\n",
    "import seaborn as sns\n",
    "import os\n",
    "import sys\n",
    "import seaborn as sns\n",
    "%matplotlib inline"
   ]
  },
  {
   "cell_type": "code",
   "execution_count": 2,
   "metadata": {},
   "outputs": [],
   "source": [
    "\n",
    "def exportar_csv(dataframe, folder, name):\n",
    "    file_dir = os.path.join(os.getcwd(),'..')\n",
    "    export_path = os.path.join(file_dir,folder)\n",
    "    name_path = os.path.join(export_path,name + '.csv')\n",
    "    dataframe.to_csv(name_path,index=False)"
   ]
  },
  {
   "cell_type": "markdown",
   "metadata": {},
   "source": [
    "# Importar excel"
   ]
  },
  {
   "cell_type": "code",
   "execution_count": 4,
   "metadata": {},
   "outputs": [],
   "source": [
    "url = 'Datos/'\n",
    "\n",
    "dbSap = pd.ExcelFile(url + 'baseSAP.xlsm')\n",
    "dbQplus = pd.ExcelFile(url + 'Qplus.xlsx')\n",
    "dbRepuestos = pd.ExcelFile(url + 'Repuestos.xlsx')\n",
    "# dbTat = pd.ExcelFile(url + 'datosTat.xlsx')\n",
    "dbTta = pd.ExcelFile(url + 'datosTta.xlsx')\n",
    "dbWorker = pd.ExcelFile(url + 'datosEmpleados.xlsx')\n",
    "# dbMs = pd.ExcelFile(url + 'cierresMS.xlsx')\n",
    "dbFaena = pd.ExcelFile(url + 'Flotas.xlsx')\n",
    "\n",
    "# Historial cursos\n",
    "dbCursos = pd.ExcelFile(url + 'historialCursos.xlsx')\n",
    "\n",
    "ruta_destino = '02_LimpiezaDatos/Datos'"
   ]
  },
  {
   "cell_type": "markdown",
   "metadata": {},
   "source": [
    "# Seleccionar hojas"
   ]
  },
  {
   "cell_type": "code",
   "execution_count": 8,
   "metadata": {},
   "outputs": [
    {
     "name": "stderr",
     "output_type": "stream",
     "text": [
      "c:\\Users\\giaan\\anaconda3\\lib\\site-packages\\ipykernel_launcher.py:1: FutureWarning: Inferring datetime64[ns] from data containing strings is deprecated and will be removed in a future version. To retain the old behavior explicitly pass Series(data, dtype={value.dtype})\n",
      "  \"\"\"Entry point for launching an IPython kernel.\n"
     ]
    }
   ],
   "source": [
    "hQplus = dbQplus.parse(0)\n",
    "# De Qplus\n",
    "exportar_csv(hQplus,ruta_destino,'qplus')\n",
    "\n",
    "# hMs = dbMs.parse(1)"
   ]
  },
  {
   "cell_type": "code",
   "execution_count": 9,
   "metadata": {},
   "outputs": [],
   "source": [
    "hOs = dbSap.parse(1)\n",
    "hOper = dbSap.parse(2)\n",
    "hHh = dbSap.parse(3)\n",
    "hWip = dbSap.parse(5)\n",
    "# De SAP\n",
    "exportar_csv(hOs,ruta_destino,'os')\n",
    "exportar_csv(hOper,ruta_destino,'operaciones')\n",
    "exportar_csv(hHh,ruta_destino,'hh')\n",
    "exportar_csv(hWip,ruta_destino,'wip')"
   ]
  },
  {
   "cell_type": "code",
   "execution_count": 10,
   "metadata": {},
   "outputs": [],
   "source": [
    "hWorker = dbWorker.parse(1)\n",
    "# De Trabajadores\n",
    "exportar_csv(hWorker,ruta_destino,'trabajadores')"
   ]
  },
  {
   "cell_type": "code",
   "execution_count": 11,
   "metadata": {},
   "outputs": [],
   "source": [
    "hTta = dbTta.parse(1)\n",
    "# De Tta\n",
    "exportar_csv(hTta,ruta_destino,'tta')"
   ]
  },
  {
   "cell_type": "code",
   "execution_count": 6,
   "metadata": {},
   "outputs": [],
   "source": [
    "# base cursos\n",
    "hHistorial = dbCursos.parse(0)\n",
    "hCursos = dbCursos.parse(1)\n",
    "hCursosAll = dbCursos.parse(2)\n",
    "\n",
    "# De Cursos\n",
    "exportar_csv(hHistorial,ruta_destino,'historial')\n",
    "exportar_csv(hCursosAll,ruta_destino,'cursosAll')\n",
    "exportar_csv(hCursos,ruta_destino,'cursos')"
   ]
  },
  {
   "cell_type": "code",
   "execution_count": 13,
   "metadata": {},
   "outputs": [],
   "source": [
    "hRepuestos = dbRepuestos.parse(0)\n",
    "exportar_csv(hRepuestos,ruta_destino,'repuestos')"
   ]
  }
 ],
 "metadata": {
  "kernelspec": {
   "display_name": "Python 3.7.13 ('base')",
   "language": "python",
   "name": "python3"
  },
  "language_info": {
   "codemirror_mode": {
    "name": "ipython",
    "version": 3
   },
   "file_extension": ".py",
   "mimetype": "text/x-python",
   "name": "python",
   "nbconvert_exporter": "python",
   "pygments_lexer": "ipython3",
   "version": "3.7.13"
  },
  "orig_nbformat": 4,
  "vscode": {
   "interpreter": {
    "hash": "02395a5ee2267bd9e0b1537cd95f059da83adf8a74d36c437bcac0b2eb96eda0"
   }
  }
 },
 "nbformat": 4,
 "nbformat_minor": 2
}
