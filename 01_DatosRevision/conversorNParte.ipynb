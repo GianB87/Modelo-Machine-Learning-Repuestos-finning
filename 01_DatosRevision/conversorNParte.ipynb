{
 "cells": [
  {
   "cell_type": "markdown",
   "metadata": {},
   "source": [
    "# Importar librerias"
   ]
  },
  {
   "cell_type": "code",
   "execution_count": 34,
   "metadata": {},
   "outputs": [],
   "source": [
    "import numpy as np\n",
    "import pandas as pd\n",
    "import os"
   ]
  },
  {
   "cell_type": "code",
   "execution_count": 35,
   "metadata": {},
   "outputs": [],
   "source": [
    "def changeHeaderDf(df):\n",
    "    new_header = df.iloc[0] #grab the first row for the header\n",
    "    df = df[1:] #take the data less the header row\n",
    "    df.columns = new_header #set the header row as the df header\n",
    "    return df"
   ]
  },
  {
   "cell_type": "markdown",
   "metadata": {},
   "source": [
    "# Filtros"
   ]
  },
  {
   "cell_type": "code",
   "execution_count": 36,
   "metadata": {},
   "outputs": [],
   "source": [
    "from os import walk\n",
    "ruta_origen = 'kitsPowerTrain'\n",
    "\n",
    "checker = 0\n",
    "total = 0\n",
    "# Se descartan CI MO MT SU por no ser relevantes\n",
    "jobDict = {'CO':[],'DI':[],'MA':[],'MF':[],'MO':[],'TR':[]}\n",
    "jobList = jobDict.keys()\n",
    "columnIdentifier = ['Part No','PartNo','Part No..000','Part No.']"
   ]
  },
  {
   "cell_type": "markdown",
   "metadata": {},
   "source": [
    "# Selector de Numero de Partes"
   ]
  },
  {
   "cell_type": "code",
   "execution_count": 37,
   "metadata": {},
   "outputs": [
    {
     "name": "stdout",
     "output_type": "stream",
     "text": [
      "MO - Todos.xlsx\n",
      "Performance: 247/273\n"
     ]
    }
   ],
   "source": [
    "# Read files and obtain values\n",
    "for (dirpath, dirnames, filenames) in walk(ruta_origen):\n",
    "    for file in filenames:\n",
    "        if file.lower().endswith('.xls') or file.lower().endswith('.xlsx'):\n",
    "            if file.startswith(tuple(jobDict.keys())):\n",
    "                PNList=[]\n",
    "                total +=1\n",
    "                # Read Excel\n",
    "                filePath = os.path.join(dirpath,file)\n",
    "                df = pd.read_excel(filePath)\n",
    "                for i in range(5):\n",
    "                    if not PNList:\n",
    "                        for label in columnIdentifier:\n",
    "                            try:\n",
    "                                # Getting list of Part No\n",
    "                                PNList = df[label].tolist()\n",
    "                                break\n",
    "                            except:\n",
    "                                PNList = []\n",
    "                    else:\n",
    "                        break\n",
    "                    try:\n",
    "                        df = changeHeaderDf(df)\n",
    "                    except:\n",
    "                        print(file)\n",
    "                        break\n",
    "                if PNList:\n",
    "                    checker += 1\n",
    "                strippedPNList = [str(s).strip() for s in PNList]\n",
    "                # Appending to corresponding Job Control\n",
    "                jobDict[file[0:2]].extend(strippedPNList)\n",
    "        elif 'KIT MO' in dirpath and '$' not in file:\n",
    "            PNList=[]\n",
    "            total +=1\n",
    "            # Read Excel\n",
    "            filePath = os.path.join(dirpath,file)\n",
    "            if file.lower().endswith('.xls') or file.lower().endswith('.xlsx'):\n",
    "                df = pd.read_excel(filePath)\n",
    "            elif file.lower().endswith('.csv'):\n",
    "                df = pd.read_csv(filePath,sep=';')\n",
    "\n",
    "            for i in range(5):\n",
    "                if not PNList:\n",
    "                    for label in columnIdentifier:\n",
    "                        try:                          \n",
    "                            PNList = df[label].tolist() # Getting list of Part No                          \n",
    "                            break\n",
    "                        except:\n",
    "                            PNList = []\n",
    "                else:\n",
    "                    break\n",
    "                try:\n",
    "                    df = changeHeaderDf(df)\n",
    "                except:\n",
    "                    print(file)\n",
    "                    break\n",
    "            if PNList:\n",
    "                checker += 1\n",
    "            strippedPNList = [str(s).strip().replace('-','') for s in PNList]\n",
    "            # Appending to corresponding Job Control\n",
    "            jobDict['MO'].extend(strippedPNList)\n",
    "print('Performance: ' + str(checker) +  \"/\" + str(total))"
   ]
  },
  {
   "cell_type": "markdown",
   "metadata": {},
   "source": [
    "# Exportar datos"
   ]
  },
  {
   "cell_type": "code",
   "execution_count": 38,
   "metadata": {},
   "outputs": [],
   "source": [
    "import pickle\n",
    "# Export Dictionary\n",
    "with open('../03_Preprocesamiento/Datos/kitsComponente.pkl', 'wb') as f:\n",
    "    pickle.dump(jobDict, f)"
   ]
  }
 ],
 "metadata": {
  "kernelspec": {
   "display_name": "Python 3.7.13 ('base')",
   "language": "python",
   "name": "python3"
  },
  "language_info": {
   "codemirror_mode": {
    "name": "ipython",
    "version": 3
   },
   "file_extension": ".py",
   "mimetype": "text/x-python",
   "name": "python",
   "nbconvert_exporter": "python",
   "pygments_lexer": "ipython3",
   "version": "3.7.13"
  },
  "orig_nbformat": 4,
  "vscode": {
   "interpreter": {
    "hash": "02395a5ee2267bd9e0b1537cd95f059da83adf8a74d36c437bcac0b2eb96eda0"
   }
  }
 },
 "nbformat": 4,
 "nbformat_minor": 2
}
